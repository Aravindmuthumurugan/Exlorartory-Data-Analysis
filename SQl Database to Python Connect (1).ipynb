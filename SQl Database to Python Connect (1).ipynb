{
 "cells": [
  {
   "cell_type": "code",
   "execution_count": 3,
   "id": "7a1020df",
   "metadata": {},
   "outputs": [],
   "source": [
    "import mysql.connector\n",
    "from pymysql import connect\n",
    "from mysql.connector import Error\n",
    "import pandas as pd"
   ]
  },
  {
   "cell_type": "code",
   "execution_count": 6,
   "id": "3f6c5634",
   "metadata": {},
   "outputs": [
    {
     "name": "stdout",
     "output_type": "stream",
     "text": [
      "('class',)\n",
      "('demonstration',)\n",
      "('information_schema',)\n",
      "('joins',)\n",
      "('k20ch',)\n",
      "('market_star',)\n",
      "('my_sql',)\n",
      "('my_sql_',)\n",
      "('mysql',)\n",
      "('performance_schema',)\n",
      "('program3',)\n",
      "('programs',)\n",
      "('subqueries',)\n",
      "('sys',)\n"
     ]
    }
   ],
   "source": [
    "data1=connect(host='localhost',user='root',passwd='admin123')\n",
    "cur=data1.cursor()\n",
    "query='show databases'\n",
    "cur.execute(query)\n",
    "datas1=cur.fetchall()\n",
    "\n",
    "for data in datas1:\n",
    "    print(data)\n"
   ]
  },
  {
   "cell_type": "code",
   "execution_count": 7,
   "id": "0c492184",
   "metadata": {},
   "outputs": [
    {
     "name": "stdout",
     "output_type": "stream",
     "text": [
      "('orders',)\n"
     ]
    }
   ],
   "source": [
    "database=connect(host='localhost',user='root',passwd='admin123',database='my_sql_')\n",
    "cur=database.cursor()\n",
    "query='show tables'\n",
    "cur.execute(query)\n",
    "tables=cur.fetchall()\n",
    "\n",
    "for table in tables:\n",
    "    print(table)\n"
   ]
  },
  {
   "cell_type": "code",
   "execution_count": 8,
   "id": "5abe8660",
   "metadata": {},
   "outputs": [
    {
     "data": {
      "text/plain": [
       "4"
      ]
     },
     "execution_count": 8,
     "metadata": {},
     "output_type": "execute_result"
    }
   ],
   "source": [
    "query='select * from orders'\n",
    "cur.execute(query)"
   ]
  },
  {
   "cell_type": "code",
   "execution_count": 10,
   "id": "cafe2cc3",
   "metadata": {},
   "outputs": [
    {
     "data": {
      "text/html": [
       "<div>\n",
       "<style scoped>\n",
       "    .dataframe tbody tr th:only-of-type {\n",
       "        vertical-align: middle;\n",
       "    }\n",
       "\n",
       "    .dataframe tbody tr th {\n",
       "        vertical-align: top;\n",
       "    }\n",
       "\n",
       "    .dataframe thead th {\n",
       "        text-align: right;\n",
       "    }\n",
       "</style>\n",
       "<table border=\"1\" class=\"dataframe\">\n",
       "  <thead>\n",
       "    <tr style=\"text-align: right;\">\n",
       "      <th></th>\n",
       "      <th>order_id</th>\n",
       "      <th>customer_name</th>\n",
       "      <th>product_name</th>\n",
       "      <th>date_ordered</th>\n",
       "      <th>quantity</th>\n",
       "      <th>unit_price</th>\n",
       "      <th>phonme_num</th>\n",
       "    </tr>\n",
       "  </thead>\n",
       "  <tbody>\n",
       "    <tr>\n",
       "      <th>0</th>\n",
       "      <td>101</td>\n",
       "      <td>Steve</td>\n",
       "      <td>laptop</td>\n",
       "      <td>2018-06-12</td>\n",
       "      <td>2</td>\n",
       "      <td>800.0</td>\n",
       "      <td>6293730802</td>\n",
       "    </tr>\n",
       "    <tr>\n",
       "      <th>1</th>\n",
       "      <td>102</td>\n",
       "      <td>olive</td>\n",
       "      <td>books</td>\n",
       "      <td>2019-07-14</td>\n",
       "      <td>10</td>\n",
       "      <td>12.0</td>\n",
       "      <td>8367489124</td>\n",
       "    </tr>\n",
       "    <tr>\n",
       "      <th>2</th>\n",
       "      <td>103</td>\n",
       "      <td>Alan</td>\n",
       "      <td>Trouser</td>\n",
       "      <td>2017-06-11</td>\n",
       "      <td>12</td>\n",
       "      <td>452.0</td>\n",
       "      <td>986591056</td>\n",
       "    </tr>\n",
       "    <tr>\n",
       "      <th>3</th>\n",
       "      <td>104</td>\n",
       "      <td>karthik</td>\n",
       "      <td>books</td>\n",
       "      <td>2020-05-11</td>\n",
       "      <td>8</td>\n",
       "      <td>120.0</td>\n",
       "      <td>8958557608</td>\n",
       "    </tr>\n",
       "  </tbody>\n",
       "</table>\n",
       "</div>"
      ],
      "text/plain": [
       "   order_id customer_name product_name date_ordered  quantity  unit_price  \\\n",
       "0       101         Steve       laptop   2018-06-12         2       800.0   \n",
       "1       102         olive        books   2019-07-14        10        12.0   \n",
       "2       103          Alan      Trouser   2017-06-11        12       452.0   \n",
       "3       104       karthik        books   2020-05-11         8       120.0   \n",
       "\n",
       "   phonme_num  \n",
       "0  6293730802  \n",
       "1  8367489124  \n",
       "2   986591056  \n",
       "3  8958557608  "
      ]
     },
     "metadata": {},
     "output_type": "display_data"
    }
   ],
   "source": [
    "df=pd.read_sql(query,database)\n",
    "display(df)"
   ]
  },
  {
   "cell_type": "code",
   "execution_count": null,
   "id": "759f5a0b",
   "metadata": {},
   "outputs": [],
   "source": []
  }
 ],
 "metadata": {
  "kernelspec": {
   "display_name": "Python 3 (ipykernel)",
   "language": "python",
   "name": "python3"
  },
  "language_info": {
   "codemirror_mode": {
    "name": "ipython",
    "version": 3
   },
   "file_extension": ".py",
   "mimetype": "text/x-python",
   "name": "python",
   "nbconvert_exporter": "python",
   "pygments_lexer": "ipython3",
   "version": "3.9.7"
  }
 },
 "nbformat": 4,
 "nbformat_minor": 5
}
